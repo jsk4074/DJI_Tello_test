{
 "cells": [
  {
   "cell_type": "code",
   "execution_count": 1,
   "metadata": {},
   "outputs": [
    {
     "name": "stdout",
     "output_type": "stream",
     "text": [
      "\n",
      "\n",
      "Tello Python3 Demo.\n",
      "\n",
      "Tello: command takeoff land flip forward back left right \n",
      "       up down cw ccw speed speed?\n",
      "\n",
      "end -- quit demo.\n",
      "\n",
      "...\n",
      "\n",
      "Exit . . .\n",
      "\n"
     ]
    }
   ],
   "source": [
    "import threading \n",
    "import socket\n",
    "import sys\n",
    "import time\n",
    " \n",
    " \n",
    "host = ''\n",
    "port = 9000\n",
    "locaddr = (host,port) \n",
    " \n",
    " \n",
    "# Create a UDP socket\n",
    "sock = socket.socket(socket.AF_INET, socket.SOCK_DGRAM)\n",
    " \n",
    "tello_address = ('192.168.10.1', 8889)\n",
    " \n",
    "sock.bind(locaddr)\n",
    " \n",
    "def recv():\n",
    "    count = 0\n",
    "    while True: \n",
    "        try:\n",
    "            data, server = sock.recvfrom(1518)\n",
    "            print(data.decode(encoding=\"utf-8\"))\n",
    "        except Exception:\n",
    "            print ('\\nExit . . .\\n')\n",
    "            break\n",
    " \n",
    " \n",
    "print ('\\r\\n\\r\\nTello Python3 Demo.\\r\\n')\n",
    " \n",
    "print ('Tello: command takeoff land flip forward back left right \\r\\n       up down cw ccw speed speed?\\r\\n')\n",
    " \n",
    "print ('end -- quit demo.\\r\\n')\n",
    " \n",
    " \n",
    "#recvThread create\n",
    "recvThread = threading.Thread(target=recv)\n",
    "recvThread.start()\n",
    " \n",
    "while True: \n",
    " \n",
    "    try:\n",
    "        msg = input(\"\");\n",
    " \n",
    "        if not msg:\n",
    "            break  \n",
    " \n",
    "        if 'end' in msg:\n",
    "            print ('...')\n",
    "            sock.close()  \n",
    "            break\n",
    " \n",
    "        # Send data\n",
    "        msg = msg.encode(encoding=\"utf-8\") \n",
    "        sent = sock.sendto(msg, tello_address)\n",
    "    except KeyboardInterrupt:\n",
    "        print ('\\n . . .\\n')\n",
    "        sock.close()  \n",
    "        break"
   ]
  },
  {
   "cell_type": "code",
   "execution_count": null,
   "metadata": {},
   "outputs": [],
   "source": []
  }
 ],
 "metadata": {
  "interpreter": {
   "hash": "624dfac656ab975afd3f95c512185bd7e848a31e8758a11dbba4881f7f69423a"
  },
  "kernelspec": {
   "display_name": "Python 3.9.7 64-bit ('base': conda)",
   "language": "python",
   "name": "python3"
  },
  "language_info": {
   "codemirror_mode": {
    "name": "ipython",
    "version": 3
   },
   "file_extension": ".py",
   "mimetype": "text/x-python",
   "name": "python",
   "nbconvert_exporter": "python",
   "pygments_lexer": "ipython3",
   "version": "3.9.7"
  },
  "orig_nbformat": 4
 },
 "nbformat": 4,
 "nbformat_minor": 2
}
